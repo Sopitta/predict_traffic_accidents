{
 "cells": [
  {
   "cell_type": "code",
   "execution_count": 27,
   "metadata": {},
   "outputs": [],
   "source": [
    "import pandas as pd\n",
    "import seaborn as sns\n",
    "import matplotlib.pyplot as plt\n",
    "import numpy as np\n",
    "from sklearn import preprocessing\n",
    "from sklearn.model_selection import train_test_split\n",
    "from sklearn.linear_model import PoissonRegressor\n",
    "import pickle"
   ]
  },
  {
   "cell_type": "code",
   "execution_count": 28,
   "metadata": {},
   "outputs": [],
   "source": [
    "def prepprocess_data(data):\n",
    "    columns = data.columns\n",
    "    #keep only 1-5 first columns\n",
    "    data.drop(columns[5:len(columns)+1], axis=1,inplace=True)\n",
    "    #format month so that the column has only from 1-12\n",
    "    data.loc[:,('MONAT')] = data.loc[:,('MONAT')].apply(lambda x: x[-2:])\n",
    "    #remove row with Month feature cintaining 'summe'\n",
    "    data = data.loc[data.loc[:,('MONAT')] != 'me']\n",
    "    data.loc[:,('MONAT')] = data.loc[:,('MONAT')].apply(lambda x: int(x))\n",
    "    #simplifying year feature\n",
    "    data.loc[:,('JAHR')] = data.loc[:,('JAHR')].apply(lambda x: x-2000)\n",
    "    #drop rows in year 2021\n",
    "    data = data.loc[data.loc[:,('JAHR')] != 21]\n",
    "    return data"
   ]
  },
  {
   "cell_type": "code",
   "execution_count": 29,
   "metadata": {},
   "outputs": [],
   "source": [
    "path ='traffic_accidents.csv'\n",
    "data = pd.read_csv(path)"
   ]
  },
  {
   "cell_type": "code",
   "execution_count": 30,
   "metadata": {},
   "outputs": [
    {
     "data": {
      "text/html": [
       "<div>\n",
       "<style scoped>\n",
       "    .dataframe tbody tr th:only-of-type {\n",
       "        vertical-align: middle;\n",
       "    }\n",
       "\n",
       "    .dataframe tbody tr th {\n",
       "        vertical-align: top;\n",
       "    }\n",
       "\n",
       "    .dataframe thead th {\n",
       "        text-align: right;\n",
       "    }\n",
       "</style>\n",
       "<table border=\"1\" class=\"dataframe\">\n",
       "  <thead>\n",
       "    <tr style=\"text-align: right;\">\n",
       "      <th></th>\n",
       "      <th>MONATSZAHL</th>\n",
       "      <th>AUSPRAEGUNG</th>\n",
       "      <th>JAHR</th>\n",
       "      <th>MONAT</th>\n",
       "      <th>WERT</th>\n",
       "      <th>VORJAHRESWERT</th>\n",
       "      <th>VERAEND_VORMONAT_PROZENT</th>\n",
       "      <th>VERAEND_VORJAHRESMONAT_PROZENT</th>\n",
       "      <th>ZWOELF_MONATE_MITTELWERT</th>\n",
       "    </tr>\n",
       "  </thead>\n",
       "  <tbody>\n",
       "    <tr>\n",
       "      <th>0</th>\n",
       "      <td>Alkoholunfälle</td>\n",
       "      <td>insgesamt</td>\n",
       "      <td>2021</td>\n",
       "      <td>202101</td>\n",
       "      <td>NaN</td>\n",
       "      <td>28.0</td>\n",
       "      <td>NaN</td>\n",
       "      <td>NaN</td>\n",
       "      <td>NaN</td>\n",
       "    </tr>\n",
       "    <tr>\n",
       "      <th>1</th>\n",
       "      <td>Alkoholunfälle</td>\n",
       "      <td>insgesamt</td>\n",
       "      <td>2021</td>\n",
       "      <td>202102</td>\n",
       "      <td>NaN</td>\n",
       "      <td>40.0</td>\n",
       "      <td>NaN</td>\n",
       "      <td>NaN</td>\n",
       "      <td>NaN</td>\n",
       "    </tr>\n",
       "    <tr>\n",
       "      <th>2</th>\n",
       "      <td>Alkoholunfälle</td>\n",
       "      <td>insgesamt</td>\n",
       "      <td>2021</td>\n",
       "      <td>202103</td>\n",
       "      <td>NaN</td>\n",
       "      <td>27.0</td>\n",
       "      <td>NaN</td>\n",
       "      <td>NaN</td>\n",
       "      <td>NaN</td>\n",
       "    </tr>\n",
       "    <tr>\n",
       "      <th>3</th>\n",
       "      <td>Alkoholunfälle</td>\n",
       "      <td>insgesamt</td>\n",
       "      <td>2021</td>\n",
       "      <td>202104</td>\n",
       "      <td>NaN</td>\n",
       "      <td>26.0</td>\n",
       "      <td>NaN</td>\n",
       "      <td>NaN</td>\n",
       "      <td>NaN</td>\n",
       "    </tr>\n",
       "    <tr>\n",
       "      <th>4</th>\n",
       "      <td>Alkoholunfälle</td>\n",
       "      <td>insgesamt</td>\n",
       "      <td>2021</td>\n",
       "      <td>202105</td>\n",
       "      <td>NaN</td>\n",
       "      <td>40.0</td>\n",
       "      <td>NaN</td>\n",
       "      <td>NaN</td>\n",
       "      <td>NaN</td>\n",
       "    </tr>\n",
       "  </tbody>\n",
       "</table>\n",
       "</div>"
      ],
      "text/plain": [
       "       MONATSZAHL AUSPRAEGUNG  JAHR   MONAT  WERT  VORJAHRESWERT  \\\n",
       "0  Alkoholunfälle   insgesamt  2021  202101   NaN           28.0   \n",
       "1  Alkoholunfälle   insgesamt  2021  202102   NaN           40.0   \n",
       "2  Alkoholunfälle   insgesamt  2021  202103   NaN           27.0   \n",
       "3  Alkoholunfälle   insgesamt  2021  202104   NaN           26.0   \n",
       "4  Alkoholunfälle   insgesamt  2021  202105   NaN           40.0   \n",
       "\n",
       "   VERAEND_VORMONAT_PROZENT  VERAEND_VORJAHRESMONAT_PROZENT  \\\n",
       "0                       NaN                             NaN   \n",
       "1                       NaN                             NaN   \n",
       "2                       NaN                             NaN   \n",
       "3                       NaN                             NaN   \n",
       "4                       NaN                             NaN   \n",
       "\n",
       "   ZWOELF_MONATE_MITTELWERT  \n",
       "0                       NaN  \n",
       "1                       NaN  \n",
       "2                       NaN  \n",
       "3                       NaN  \n",
       "4                       NaN  "
      ]
     },
     "execution_count": 30,
     "metadata": {},
     "output_type": "execute_result"
    }
   ],
   "source": [
    "#visualize original data\n",
    "data.head()"
   ]
  },
  {
   "cell_type": "code",
   "execution_count": 31,
   "metadata": {},
   "outputs": [
    {
     "name": "stderr",
     "output_type": "stream",
     "text": [
      "c:\\Users\\gamso\\Desktop\\side_project\\py91_project\\lib\\site-packages\\pandas\\core\\indexing.py:1773: SettingWithCopyWarning: \n",
      "A value is trying to be set on a copy of a slice from a DataFrame.\n",
      "Try using .loc[row_indexer,col_indexer] = value instead\n",
      "\n",
      "See the caveats in the documentation: https://pandas.pydata.org/pandas-docs/stable/user_guide/indexing.html#returning-a-view-versus-a-copy\n",
      "  self._setitem_single_column(ilocs[0], value, pi)\n"
     ]
    }
   ],
   "source": [
    "prep_data = prepprocess_data(data)"
   ]
  },
  {
   "cell_type": "code",
   "execution_count": 32,
   "metadata": {},
   "outputs": [
    {
     "data": {
      "text/html": [
       "<div>\n",
       "<style scoped>\n",
       "    .dataframe tbody tr th:only-of-type {\n",
       "        vertical-align: middle;\n",
       "    }\n",
       "\n",
       "    .dataframe tbody tr th {\n",
       "        vertical-align: top;\n",
       "    }\n",
       "\n",
       "    .dataframe thead th {\n",
       "        text-align: right;\n",
       "    }\n",
       "</style>\n",
       "<table border=\"1\" class=\"dataframe\">\n",
       "  <thead>\n",
       "    <tr style=\"text-align: right;\">\n",
       "      <th></th>\n",
       "      <th>MONATSZAHL</th>\n",
       "      <th>AUSPRAEGUNG</th>\n",
       "      <th>JAHR</th>\n",
       "      <th>MONAT</th>\n",
       "      <th>WERT</th>\n",
       "    </tr>\n",
       "  </thead>\n",
       "  <tbody>\n",
       "    <tr>\n",
       "      <th>13</th>\n",
       "      <td>Alkoholunfälle</td>\n",
       "      <td>insgesamt</td>\n",
       "      <td>20</td>\n",
       "      <td>1</td>\n",
       "      <td>28.0</td>\n",
       "    </tr>\n",
       "    <tr>\n",
       "      <th>14</th>\n",
       "      <td>Alkoholunfälle</td>\n",
       "      <td>insgesamt</td>\n",
       "      <td>20</td>\n",
       "      <td>2</td>\n",
       "      <td>40.0</td>\n",
       "    </tr>\n",
       "    <tr>\n",
       "      <th>15</th>\n",
       "      <td>Alkoholunfälle</td>\n",
       "      <td>insgesamt</td>\n",
       "      <td>20</td>\n",
       "      <td>3</td>\n",
       "      <td>27.0</td>\n",
       "    </tr>\n",
       "    <tr>\n",
       "      <th>16</th>\n",
       "      <td>Alkoholunfälle</td>\n",
       "      <td>insgesamt</td>\n",
       "      <td>20</td>\n",
       "      <td>4</td>\n",
       "      <td>26.0</td>\n",
       "    </tr>\n",
       "    <tr>\n",
       "      <th>17</th>\n",
       "      <td>Alkoholunfälle</td>\n",
       "      <td>insgesamt</td>\n",
       "      <td>20</td>\n",
       "      <td>5</td>\n",
       "      <td>40.0</td>\n",
       "    </tr>\n",
       "  </tbody>\n",
       "</table>\n",
       "</div>"
      ],
      "text/plain": [
       "        MONATSZAHL AUSPRAEGUNG  JAHR  MONAT  WERT\n",
       "13  Alkoholunfälle   insgesamt    20      1  28.0\n",
       "14  Alkoholunfälle   insgesamt    20      2  40.0\n",
       "15  Alkoholunfälle   insgesamt    20      3  27.0\n",
       "16  Alkoholunfälle   insgesamt    20      4  26.0\n",
       "17  Alkoholunfälle   insgesamt    20      5  40.0"
      ]
     },
     "execution_count": 32,
     "metadata": {},
     "output_type": "execute_result"
    }
   ],
   "source": [
    "#visualize preprocess data\n",
    "prep_data.head()"
   ]
  },
  {
   "cell_type": "code",
   "execution_count": 33,
   "metadata": {},
   "outputs": [
    {
     "data": {
      "text/plain": [
       "False"
      ]
     },
     "execution_count": 33,
     "metadata": {},
     "output_type": "execute_result"
    }
   ],
   "source": [
    "#check for empty values\n",
    "prep_data.isnull().values.any()"
   ]
  },
  {
   "cell_type": "code",
   "execution_count": 34,
   "metadata": {},
   "outputs": [],
   "source": [
    "#getting target column\n",
    "y = prep_data.iloc[:,4].to_numpy()"
   ]
  },
  {
   "cell_type": "code",
   "execution_count": 35,
   "metadata": {},
   "outputs": [],
   "source": [
    "#encode categorical values;Category and Type\n",
    "ohe = preprocessing.OneHotEncoder()\n",
    "data_cat = prep_data.iloc[:,0:2]\n",
    "ohe.fit(data_cat)\n",
    "X_cat = ohe.transform(data_cat).toarray()\n",
    "#convert month and year to array\n",
    "X_my = prep_data.iloc[:,2:4].to_numpy()"
   ]
  },
  {
   "cell_type": "code",
   "execution_count": 36,
   "metadata": {},
   "outputs": [],
   "source": [
    "#combine all features together\n",
    "X = np.concatenate([X_cat,X_my],axis = 1)"
   ]
  },
  {
   "cell_type": "code",
   "execution_count": 37,
   "metadata": {},
   "outputs": [],
   "source": [
    "#split train and test\n",
    "X_train, X_test, y_train, y_test = train_test_split(X, y, test_size=0.2, random_state=1)"
   ]
  },
  {
   "cell_type": "code",
   "execution_count": 38,
   "metadata": {},
   "outputs": [
    {
     "data": {
      "text/plain": [
       "PoissonRegressor()"
      ]
     },
     "execution_count": 38,
     "metadata": {},
     "output_type": "execute_result"
    }
   ],
   "source": [
    "#fit the X_train with y_train with Poisson Regressor\n",
    "model = PoissonRegressor()\n",
    "model.fit(X_train,y_train)"
   ]
  },
  {
   "cell_type": "code",
   "execution_count": 39,
   "metadata": {},
   "outputs": [
    {
     "data": {
      "text/plain": [
       "0.9726878296670647"
      ]
     },
     "execution_count": 39,
     "metadata": {},
     "output_type": "execute_result"
    }
   ],
   "source": [
    "#checking train score\n",
    "model.score(X_train, y_train)"
   ]
  },
  {
   "cell_type": "code",
   "execution_count": 40,
   "metadata": {},
   "outputs": [
    {
     "data": {
      "text/plain": [
       "0.978565323103127"
      ]
     },
     "execution_count": 40,
     "metadata": {},
     "output_type": "execute_result"
    }
   ],
   "source": [
    "#checking test score\n",
    "model.score(X_test, y_test)"
   ]
  },
  {
   "cell_type": "code",
   "execution_count": 41,
   "metadata": {},
   "outputs": [
    {
     "data": {
      "text/plain": [
       "array([ 822.,  861.,  453.,   99., 3349., 3423., 3807.,  828.,  445.,\n",
       "        474.,   73.,  467.,  771.,    8.,  790.,  411.,    9.,    9.,\n",
       "        471.,   65.,  105.,    8.,   77., 3855.,  390.,  418.,  409.,\n",
       "        767.,  102.,  440.,  391.,   66., 3283., 3680.,  493.,   70.,\n",
       "         70.,  393.,  457.,  834.,  872.,    9., 3590.,  785.,  413.,\n",
       "       3444.,  450.,  433.,  496.,  414.,  860.,  472.,  396.,    8.,\n",
       "         69.,  104.,  389.,  503.,  450., 3663.,  869.,    9.,  839.,\n",
       "       3308.,  766.,    9.,  843.,  437., 3675.,    9.,   70.,    9.,\n",
       "        840., 3370.,    9.,    9.,  441.,    9.,   66.,    9., 3375.,\n",
       "       3412.,  480.,  109.,  105.,   10.,   71.,  107.,  768.,   68.,\n",
       "        501.,  439.,  452.,  114., 3401.,   66.,   65., 3423.,  485.,\n",
       "        420.,  450., 3720.,  809.,  502.,   68., 3428.,  495.,  789.,\n",
       "        464., 3298.,  412.,   66.,    8., 3417.,  825.,    9.,  103.,\n",
       "        427.,  499.,  443.,  501.,  450.,    9.,  417.,    9.,  468.,\n",
       "        452.,  481.,  779.,   67.,  839.,  458.,  397.,  454.,   64.,\n",
       "        435., 3579.,    9.,  805., 3646.,  432.,   65., 3552.,   75.,\n",
       "       3386.,    8.,    8.,    9., 3344.,  387.,    9.,  837.,   96.,\n",
       "        465.,  415.,    9.,   66., 3778.,  416.,   72.,  455.,  868.,\n",
       "        847.,  109.,   73.,   95.,  111.,   71.,  104.,  113.,  431.,\n",
       "       3618.,  449.,  104.,  450.,    9., 3248.,   76.,  504.,   71.,\n",
       "        458., 3519., 3715.,   75.,  115., 3849.,  496.,  770.,    8.,\n",
       "         75.,  863.,    9.,    9.,  423., 3376., 3519.,   73.,  440.,\n",
       "       3503.,  101., 3732.,  839.,  875.,  863., 3837.,  447., 3743.,\n",
       "        114.,  820.,  459.,  856., 3444.,  110.,    8.,  435.,  460.,\n",
       "        427.,  106., 3497.,  774.,  441.,  108.,  427.,    9.,  513.,\n",
       "        897.,    9.,  446., 3268.,   70., 3471.,  106.,  114., 3417.,\n",
       "        454.,   67.,   72.,   69.,  114.,  470.,    8.,  451.,  455.,\n",
       "        409.,  765.,  784.,  110.,  857.,   65., 3557.,    8.,  794.,\n",
       "        453., 3391., 3849.,  755.,  110., 3530.,  392.,  435.,   67.,\n",
       "        834.,  759.,   72.,  109.,   72.,   72.,  442.,  401.,  846.,\n",
       "        767.,  449.,  435.,    9.,    8.,  470.,  416.,    9.,  850.,\n",
       "       3743.,  401.,   69.,  116.,  439.,  836.,   73., 3273.,   70.,\n",
       "        842.,    8.,  406.,  512.,  420.,  883., 3303.,  117.,  437.,\n",
       "        105.,    8.,    9.,  470.,  441., 3720.,    8.,    8.,    9.,\n",
       "          9.,    8.,    8.,   70.,  443.,   76.,  418.,    9.,  414.,\n",
       "       3334.,  113.,  886.,  482.,  800.,  484.,   76.,  869.,  408.,\n",
       "       3726.,  420.,  783.,  422.,   65., 3438.,    8., 3439.,  867.,\n",
       "          9.,  111.,  440.,  490.,  443.,  888., 3503.,  105., 3557.,\n",
       "          9.,   67.,    8.,   73.,   70., 3365.,  439.,   77.,   63.,\n",
       "       3825., 3784.])"
      ]
     },
     "execution_count": 41,
     "metadata": {},
     "output_type": "execute_result"
    }
   ],
   "source": [
    "np.floor(model.predict(X_test))"
   ]
  },
  {
   "cell_type": "code",
   "execution_count": 42,
   "metadata": {},
   "outputs": [],
   "source": [
    "#save the model\n",
    "filename = 'model.pkl'\n",
    "pickle.dump(model, open(filename, 'wb'))"
   ]
  },
  {
   "cell_type": "code",
   "execution_count": 43,
   "metadata": {},
   "outputs": [],
   "source": [
    "#save encoder\n",
    "pickle.dump(ohe, open('encoder.pickle', 'wb'))"
   ]
  }
 ],
 "metadata": {
  "interpreter": {
   "hash": "13aa73f2a439f6194ba0fd7aeb958f05922856e91aec4002873e5ec4866a875c"
  },
  "kernelspec": {
   "display_name": "Python 3.9.3 64-bit ('py91_project': venv)",
   "name": "python3"
  },
  "language_info": {
   "codemirror_mode": {
    "name": "ipython",
    "version": 3
   },
   "file_extension": ".py",
   "mimetype": "text/x-python",
   "name": "python",
   "nbconvert_exporter": "python",
   "pygments_lexer": "ipython3",
   "version": "3.9.3"
  },
  "orig_nbformat": 4
 },
 "nbformat": 4,
 "nbformat_minor": 2
}
